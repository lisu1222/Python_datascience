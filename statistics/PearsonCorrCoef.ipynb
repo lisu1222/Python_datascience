{
 "cells": [
  {
   "cell_type": "markdown",
   "metadata": {},
   "source": [
    "## Pearson Correlation Coefficient"
   ]
  },
  {
   "cell_type": "markdown",
   "metadata": {},
   "source": [
    "There are a number of equivalent expression ways to calculate Pearson’s correlation coefficient (also called Pearson’s r). Here is one."
   ]
  },
  {
   "cell_type": "markdown",
   "metadata": {},
   "source": [
    "\\begin{equation*}\n",
    "r  = \\frac {1}{(n-1)}\\sum \\limits_{i = 0}^{n} (\\frac {(x_{i} - \\bar x)} {s_{x}}) (\\frac {(y_{i} - \\bar y)} {s_{y}})\n",
    "\\end{equation*}"
   ]
  },
  {
   "cell_type": "markdown",
   "metadata": {},
   "source": [
    "where s_{x}  is the standard deviation of x and s_{y} is the stdev of y."
   ]
  },
  {
   "cell_type": "code",
   "execution_count": 2,
   "metadata": {},
   "outputs": [],
   "source": [
    "import statistics as stats"
   ]
  },
  {
   "cell_type": "markdown",
   "metadata": {},
   "source": [
    "**create data**"
   ]
  },
  {
   "cell_type": "code",
   "execution_count": 3,
   "metadata": {},
   "outputs": [],
   "source": [
    "x = [1,2,3,4,5,6,7,8,9]\n",
    "y = [2,1,2,4.5,7,6.5,6,9,9.5]"
   ]
  },
  {
   "cell_type": "code",
   "execution_count": 8,
   "metadata": {},
   "outputs": [],
   "source": [
    "def pearson(x, y):\n",
    "    \n",
    "    n = len(x)\n",
    "    \n",
    "    mean_x = stats.mean(x)\n",
    "    mean_y = stats.mean(y)\n",
    "    \n",
    "    stand_score_x = []\n",
    "    stand_score_y = []\n",
    "    \n",
    "    standard_deviation_x = stats.stdev(x)\n",
    "    standard_deviation_y = stats.stdev(y)\n",
    "    \n",
    "    # For each observation in x\n",
    "    for i in x:\n",
    "        #calculate the standard score of x\n",
    "        stand_score_x.append((i - mean_x)/standard_deviation_x)\n",
    "    for j in y:\n",
    "        stand_score_y.append((j - mean_y)/standard_deviation_y)\n",
    "        \n",
    "    # Multiple the standard scores together, sum them, then divide by n-1, return that value\n",
    "    return (sum([i*j for i,j in zip(stand_score_x, stand_score_y)]))/(n-1)\n",
    "        "
   ]
  },
  {
   "cell_type": "markdown",
   "metadata": {},
   "source": [
    "**Show Pearson's Correlation Coefficient**"
   ]
  },
  {
   "cell_type": "code",
   "execution_count": 9,
   "metadata": {},
   "outputs": [
    {
     "data": {
      "text/plain": [
       "0.9412443251336238"
      ]
     },
     "execution_count": 9,
     "metadata": {},
     "output_type": "execute_result"
    }
   ],
   "source": [
    "pearson(x,y)"
   ]
  }
 ],
 "metadata": {
  "kernelspec": {
   "display_name": "Python 3",
   "language": "python",
   "name": "python3"
  },
  "language_info": {
   "codemirror_mode": {
    "name": "ipython",
    "version": 3
   },
   "file_extension": ".py",
   "mimetype": "text/x-python",
   "name": "python",
   "nbconvert_exporter": "python",
   "pygments_lexer": "ipython3",
   "version": "3.7.3"
  }
 },
 "nbformat": 4,
 "nbformat_minor": 2
}
